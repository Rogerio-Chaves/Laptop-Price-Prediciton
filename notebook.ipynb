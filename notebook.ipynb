{
 "cells": [
  {
   "cell_type": "markdown",
   "metadata": {
    "id": "o0KkN6T1XP7C"
   },
   "source": [
    "# Laptop Price Prediciton\n",
    "\n",
    "**Author:** Rogerio Chaves\n",
    "\n",
    "Description:</br>"
   ]
  },
  {
   "cell_type": "markdown",
   "metadata": {
    "id": "wy8dfG2oXwhx"
   },
   "source": [
    "## Preprocessing"
   ]
  },
  {
   "cell_type": "markdown",
   "metadata": {
    "id": "NTIZ8evTYAlh"
   },
   "source": [
    "### Import libraries"
   ]
  },
  {
   "cell_type": "code",
   "execution_count": 1,
   "metadata": {
    "id": "kE1SEyA5Y_pq"
   },
   "outputs": [],
   "source": [
    "from IPython.display import display\n",
    "from matplotlib.style import use\n",
    "from sklearn.ensemble import RandomForestRegressor\n",
    "from sklearn.feature_selection import mutual_info_regression\n",
    "from sklearn.metrics import mutual_info_score\n",
    "from sklearn.model_selection import train_test_split, GridSearchCV\n",
    "from sklearn.preprocessing import LabelEncoder\n",
    "from sklearn.tree import DecisionTreeRegressor\n",
    "\n",
    "import matplotlib.pyplot as plt\n",
    "import numpy as np\n",
    "import os\n",
    "import pandas as pd\n",
    "import pickle\n",
    "import re\n",
    "\n",
    "use('seaborn-v0_8')\n",
    "%matplotlib inline"
   ]
  },
  {
   "cell_type": "markdown",
   "metadata": {
    "id": "fOqsOe7XYEL4"
   },
   "source": [
    "### Load the dataset."
   ]
  },
  {
   "cell_type": "code",
   "execution_count": 2,
   "metadata": {
    "id": "jHUlIUMtOliA"
   },
   "outputs": [
    {
     "data": {
      "text/html": [
       "<div>\n",
       "<style scoped>\n",
       "    .dataframe tbody tr th:only-of-type {\n",
       "        vertical-align: middle;\n",
       "    }\n",
       "\n",
       "    .dataframe tbody tr th {\n",
       "        vertical-align: top;\n",
       "    }\n",
       "\n",
       "    .dataframe thead th {\n",
       "        text-align: right;\n",
       "    }\n",
       "</style>\n",
       "<table border=\"1\" class=\"dataframe\">\n",
       "  <thead>\n",
       "    <tr style=\"text-align: right;\">\n",
       "      <th></th>\n",
       "      <th>laptop_ID</th>\n",
       "      <th>Company</th>\n",
       "      <th>Product</th>\n",
       "      <th>TypeName</th>\n",
       "      <th>Inches</th>\n",
       "      <th>ScreenResolution</th>\n",
       "      <th>Cpu</th>\n",
       "      <th>Ram</th>\n",
       "      <th>Memory</th>\n",
       "      <th>Gpu</th>\n",
       "      <th>OpSys</th>\n",
       "      <th>Weight</th>\n",
       "      <th>Price_euros</th>\n",
       "    </tr>\n",
       "  </thead>\n",
       "  <tbody>\n",
       "    <tr>\n",
       "      <th>0</th>\n",
       "      <td>1</td>\n",
       "      <td>Apple</td>\n",
       "      <td>MacBook Pro</td>\n",
       "      <td>Ultrabook</td>\n",
       "      <td>13.3</td>\n",
       "      <td>IPS Panel Retina Display 2560x1600</td>\n",
       "      <td>Intel Core i5 2.3GHz</td>\n",
       "      <td>8GB</td>\n",
       "      <td>128GB SSD</td>\n",
       "      <td>Intel Iris Plus Graphics 640</td>\n",
       "      <td>macOS</td>\n",
       "      <td>1.37kg</td>\n",
       "      <td>1339.69</td>\n",
       "    </tr>\n",
       "    <tr>\n",
       "      <th>1</th>\n",
       "      <td>2</td>\n",
       "      <td>Apple</td>\n",
       "      <td>Macbook Air</td>\n",
       "      <td>Ultrabook</td>\n",
       "      <td>13.3</td>\n",
       "      <td>1440x900</td>\n",
       "      <td>Intel Core i5 1.8GHz</td>\n",
       "      <td>8GB</td>\n",
       "      <td>128GB Flash Storage</td>\n",
       "      <td>Intel HD Graphics 6000</td>\n",
       "      <td>macOS</td>\n",
       "      <td>1.34kg</td>\n",
       "      <td>898.94</td>\n",
       "    </tr>\n",
       "    <tr>\n",
       "      <th>2</th>\n",
       "      <td>3</td>\n",
       "      <td>HP</td>\n",
       "      <td>250 G6</td>\n",
       "      <td>Notebook</td>\n",
       "      <td>15.6</td>\n",
       "      <td>Full HD 1920x1080</td>\n",
       "      <td>Intel Core i5 7200U 2.5GHz</td>\n",
       "      <td>8GB</td>\n",
       "      <td>256GB SSD</td>\n",
       "      <td>Intel HD Graphics 620</td>\n",
       "      <td>No OS</td>\n",
       "      <td>1.86kg</td>\n",
       "      <td>575.00</td>\n",
       "    </tr>\n",
       "    <tr>\n",
       "      <th>3</th>\n",
       "      <td>4</td>\n",
       "      <td>Apple</td>\n",
       "      <td>MacBook Pro</td>\n",
       "      <td>Ultrabook</td>\n",
       "      <td>15.4</td>\n",
       "      <td>IPS Panel Retina Display 2880x1800</td>\n",
       "      <td>Intel Core i7 2.7GHz</td>\n",
       "      <td>16GB</td>\n",
       "      <td>512GB SSD</td>\n",
       "      <td>AMD Radeon Pro 455</td>\n",
       "      <td>macOS</td>\n",
       "      <td>1.83kg</td>\n",
       "      <td>2537.45</td>\n",
       "    </tr>\n",
       "    <tr>\n",
       "      <th>4</th>\n",
       "      <td>5</td>\n",
       "      <td>Apple</td>\n",
       "      <td>MacBook Pro</td>\n",
       "      <td>Ultrabook</td>\n",
       "      <td>13.3</td>\n",
       "      <td>IPS Panel Retina Display 2560x1600</td>\n",
       "      <td>Intel Core i5 3.1GHz</td>\n",
       "      <td>8GB</td>\n",
       "      <td>256GB SSD</td>\n",
       "      <td>Intel Iris Plus Graphics 650</td>\n",
       "      <td>macOS</td>\n",
       "      <td>1.37kg</td>\n",
       "      <td>1803.60</td>\n",
       "    </tr>\n",
       "  </tbody>\n",
       "</table>\n",
       "</div>"
      ],
      "text/plain": [
       "   laptop_ID Company      Product   TypeName  Inches  \\\n",
       "0          1   Apple  MacBook Pro  Ultrabook    13.3   \n",
       "1          2   Apple  Macbook Air  Ultrabook    13.3   \n",
       "2          3      HP       250 G6   Notebook    15.6   \n",
       "3          4   Apple  MacBook Pro  Ultrabook    15.4   \n",
       "4          5   Apple  MacBook Pro  Ultrabook    13.3   \n",
       "\n",
       "                     ScreenResolution                         Cpu   Ram  \\\n",
       "0  IPS Panel Retina Display 2560x1600        Intel Core i5 2.3GHz   8GB   \n",
       "1                            1440x900        Intel Core i5 1.8GHz   8GB   \n",
       "2                   Full HD 1920x1080  Intel Core i5 7200U 2.5GHz   8GB   \n",
       "3  IPS Panel Retina Display 2880x1800        Intel Core i7 2.7GHz  16GB   \n",
       "4  IPS Panel Retina Display 2560x1600        Intel Core i5 3.1GHz   8GB   \n",
       "\n",
       "                Memory                           Gpu  OpSys  Weight  \\\n",
       "0            128GB SSD  Intel Iris Plus Graphics 640  macOS  1.37kg   \n",
       "1  128GB Flash Storage        Intel HD Graphics 6000  macOS  1.34kg   \n",
       "2            256GB SSD         Intel HD Graphics 620  No OS  1.86kg   \n",
       "3            512GB SSD            AMD Radeon Pro 455  macOS  1.83kg   \n",
       "4            256GB SSD  Intel Iris Plus Graphics 650  macOS  1.37kg   \n",
       "\n",
       "   Price_euros  \n",
       "0      1339.69  \n",
       "1       898.94  \n",
       "2       575.00  \n",
       "3      2537.45  \n",
       "4      1803.60  "
      ]
     },
     "metadata": {},
     "output_type": "display_data"
    }
   ],
   "source": [
    "df = pd.read_csv('data/laptop_price.csv', encoding='cp437')\n",
    "display(df.head())"
   ]
  },
  {
   "cell_type": "code",
   "execution_count": 3,
   "metadata": {
    "colab": {
     "base_uri": "https://localhost:8080/"
    },
    "id": "SqHNTgJXOliF",
    "outputId": "0a4e8ecd-e8f3-4ef6-ace6-102871fff18e"
   },
   "outputs": [
    {
     "name": "stdout",
     "output_type": "stream",
     "text": [
      "<class 'pandas.core.frame.DataFrame'>\n",
      "RangeIndex: 1303 entries, 0 to 1302\n",
      "Data columns (total 13 columns):\n",
      " #   Column            Non-Null Count  Dtype  \n",
      "---  ------            --------------  -----  \n",
      " 0   laptop_ID         1303 non-null   int64  \n",
      " 1   Company           1303 non-null   object \n",
      " 2   Product           1303 non-null   object \n",
      " 3   TypeName          1303 non-null   object \n",
      " 4   Inches            1303 non-null   float64\n",
      " 5   ScreenResolution  1303 non-null   object \n",
      " 6   Cpu               1303 non-null   object \n",
      " 7   Ram               1303 non-null   object \n",
      " 8   Memory            1303 non-null   object \n",
      " 9   Gpu               1303 non-null   object \n",
      " 10  OpSys             1303 non-null   object \n",
      " 11  Weight            1303 non-null   object \n",
      " 12  Price_euros       1303 non-null   float64\n",
      "dtypes: float64(2), int64(1), object(10)\n",
      "memory usage: 132.5+ KB\n"
     ]
    }
   ],
   "source": [
    "df.info()"
   ]
  },
  {
   "cell_type": "markdown",
   "metadata": {
    "id": "iYjzGO8uYOe6"
   },
   "source": [
    "Change the column names to lower case form"
   ]
  },
  {
   "cell_type": "code",
   "execution_count": 4,
   "metadata": {
    "id": "ptwOYi2KT6N9"
   },
   "outputs": [],
   "source": [
    "df.columns = df.columns.str.lower().str.replace(' ', '_')"
   ]
  },
  {
   "cell_type": "code",
   "execution_count": 5,
   "metadata": {
    "colab": {
     "base_uri": "https://localhost:8080/",
     "height": 256
    },
    "id": "9w0uShvrVWiz",
    "outputId": "33c9ba1d-90b4-4434-cba6-f9e7906cbaed"
   },
   "outputs": [
    {
     "data": {
      "text/plain": [
       "Index(['laptop_id', 'company', 'product', 'typename', 'inches',\n",
       "       'screenresolution', 'cpu', 'ram', 'memory', 'gpu', 'opsys', 'weight',\n",
       "       'price_euros'],\n",
       "      dtype='object')"
      ]
     },
     "execution_count": 5,
     "metadata": {},
     "output_type": "execute_result"
    }
   ],
   "source": [
    "df.columns"
   ]
  },
  {
   "cell_type": "code",
   "execution_count": 6,
   "metadata": {},
   "outputs": [
    {
     "data": {
      "text/plain": [
       "['company',\n",
       " 'product',\n",
       " 'typename',\n",
       " 'screenresolution',\n",
       " 'cpu',\n",
       " 'ram',\n",
       " 'memory',\n",
       " 'gpu',\n",
       " 'opsys',\n",
       " 'weight']"
      ]
     },
     "execution_count": 6,
     "metadata": {},
     "output_type": "execute_result"
    }
   ],
   "source": [
    "string_columns = list(df.dtypes[df.dtypes == 'object'].index)\n",
    "string_columns"
   ]
  },
  {
   "cell_type": "code",
   "execution_count": 7,
   "metadata": {},
   "outputs": [],
   "source": [
    "for col in string_columns:\n",
    "    df[col] = df[col].str.lower().str.replace(' ', '_')"
   ]
  },
  {
   "cell_type": "code",
   "execution_count": 8,
   "metadata": {},
   "outputs": [
    {
     "data": {
      "text/html": [
       "<div>\n",
       "<style scoped>\n",
       "    .dataframe tbody tr th:only-of-type {\n",
       "        vertical-align: middle;\n",
       "    }\n",
       "\n",
       "    .dataframe tbody tr th {\n",
       "        vertical-align: top;\n",
       "    }\n",
       "\n",
       "    .dataframe thead th {\n",
       "        text-align: right;\n",
       "    }\n",
       "</style>\n",
       "<table border=\"1\" class=\"dataframe\">\n",
       "  <thead>\n",
       "    <tr style=\"text-align: right;\">\n",
       "      <th></th>\n",
       "      <th>laptop_id</th>\n",
       "      <th>company</th>\n",
       "      <th>product</th>\n",
       "      <th>typename</th>\n",
       "      <th>inches</th>\n",
       "      <th>screenresolution</th>\n",
       "      <th>cpu</th>\n",
       "      <th>ram</th>\n",
       "      <th>memory</th>\n",
       "      <th>gpu</th>\n",
       "      <th>opsys</th>\n",
       "      <th>weight</th>\n",
       "      <th>price_euros</th>\n",
       "    </tr>\n",
       "  </thead>\n",
       "  <tbody>\n",
       "    <tr>\n",
       "      <th>0</th>\n",
       "      <td>1</td>\n",
       "      <td>apple</td>\n",
       "      <td>macbook_pro</td>\n",
       "      <td>ultrabook</td>\n",
       "      <td>13.3</td>\n",
       "      <td>ips_panel_retina_display_2560x1600</td>\n",
       "      <td>intel_core_i5_2.3ghz</td>\n",
       "      <td>8gb</td>\n",
       "      <td>128gb_ssd</td>\n",
       "      <td>intel_iris_plus_graphics_640</td>\n",
       "      <td>macos</td>\n",
       "      <td>1.37kg</td>\n",
       "      <td>1339.69</td>\n",
       "    </tr>\n",
       "    <tr>\n",
       "      <th>1</th>\n",
       "      <td>2</td>\n",
       "      <td>apple</td>\n",
       "      <td>macbook_air</td>\n",
       "      <td>ultrabook</td>\n",
       "      <td>13.3</td>\n",
       "      <td>1440x900</td>\n",
       "      <td>intel_core_i5_1.8ghz</td>\n",
       "      <td>8gb</td>\n",
       "      <td>128gb_flash_storage</td>\n",
       "      <td>intel_hd_graphics_6000</td>\n",
       "      <td>macos</td>\n",
       "      <td>1.34kg</td>\n",
       "      <td>898.94</td>\n",
       "    </tr>\n",
       "    <tr>\n",
       "      <th>2</th>\n",
       "      <td>3</td>\n",
       "      <td>hp</td>\n",
       "      <td>250_g6</td>\n",
       "      <td>notebook</td>\n",
       "      <td>15.6</td>\n",
       "      <td>full_hd_1920x1080</td>\n",
       "      <td>intel_core_i5_7200u_2.5ghz</td>\n",
       "      <td>8gb</td>\n",
       "      <td>256gb_ssd</td>\n",
       "      <td>intel_hd_graphics_620</td>\n",
       "      <td>no_os</td>\n",
       "      <td>1.86kg</td>\n",
       "      <td>575.00</td>\n",
       "    </tr>\n",
       "    <tr>\n",
       "      <th>3</th>\n",
       "      <td>4</td>\n",
       "      <td>apple</td>\n",
       "      <td>macbook_pro</td>\n",
       "      <td>ultrabook</td>\n",
       "      <td>15.4</td>\n",
       "      <td>ips_panel_retina_display_2880x1800</td>\n",
       "      <td>intel_core_i7_2.7ghz</td>\n",
       "      <td>16gb</td>\n",
       "      <td>512gb_ssd</td>\n",
       "      <td>amd_radeon_pro_455</td>\n",
       "      <td>macos</td>\n",
       "      <td>1.83kg</td>\n",
       "      <td>2537.45</td>\n",
       "    </tr>\n",
       "    <tr>\n",
       "      <th>4</th>\n",
       "      <td>5</td>\n",
       "      <td>apple</td>\n",
       "      <td>macbook_pro</td>\n",
       "      <td>ultrabook</td>\n",
       "      <td>13.3</td>\n",
       "      <td>ips_panel_retina_display_2560x1600</td>\n",
       "      <td>intel_core_i5_3.1ghz</td>\n",
       "      <td>8gb</td>\n",
       "      <td>256gb_ssd</td>\n",
       "      <td>intel_iris_plus_graphics_650</td>\n",
       "      <td>macos</td>\n",
       "      <td>1.37kg</td>\n",
       "      <td>1803.60</td>\n",
       "    </tr>\n",
       "  </tbody>\n",
       "</table>\n",
       "</div>"
      ],
      "text/plain": [
       "   laptop_id company      product   typename  inches  \\\n",
       "0          1   apple  macbook_pro  ultrabook    13.3   \n",
       "1          2   apple  macbook_air  ultrabook    13.3   \n",
       "2          3      hp       250_g6   notebook    15.6   \n",
       "3          4   apple  macbook_pro  ultrabook    15.4   \n",
       "4          5   apple  macbook_pro  ultrabook    13.3   \n",
       "\n",
       "                     screenresolution                         cpu   ram  \\\n",
       "0  ips_panel_retina_display_2560x1600        intel_core_i5_2.3ghz   8gb   \n",
       "1                            1440x900        intel_core_i5_1.8ghz   8gb   \n",
       "2                   full_hd_1920x1080  intel_core_i5_7200u_2.5ghz   8gb   \n",
       "3  ips_panel_retina_display_2880x1800        intel_core_i7_2.7ghz  16gb   \n",
       "4  ips_panel_retina_display_2560x1600        intel_core_i5_3.1ghz   8gb   \n",
       "\n",
       "                memory                           gpu  opsys  weight  \\\n",
       "0            128gb_ssd  intel_iris_plus_graphics_640  macos  1.37kg   \n",
       "1  128gb_flash_storage        intel_hd_graphics_6000  macos  1.34kg   \n",
       "2            256gb_ssd         intel_hd_graphics_620  no_os  1.86kg   \n",
       "3            512gb_ssd            amd_radeon_pro_455  macos  1.83kg   \n",
       "4            256gb_ssd  intel_iris_plus_graphics_650  macos  1.37kg   \n",
       "\n",
       "   price_euros  \n",
       "0      1339.69  \n",
       "1       898.94  \n",
       "2       575.00  \n",
       "3      2537.45  \n",
       "4      1803.60  "
      ]
     },
     "metadata": {},
     "output_type": "display_data"
    }
   ],
   "source": [
    "display(df.head())"
   ]
  },
  {
   "cell_type": "markdown",
   "metadata": {
    "id": "wReX5uLPOliM"
   },
   "source": [
    "### Setting up the validation framework\n",
    "\n",
    "Let's split the dataset in:\n",
    "\n",
    "* 80% for training (cross validation);\n",
    "\n",
    "* 20% for test."
   ]
  },
  {
   "cell_type": "code",
   "execution_count": 9,
   "metadata": {
    "colab": {
     "base_uri": "https://localhost:8080/"
    },
    "id": "6UiuH_MIOliN",
    "outputId": "ee3e2b47-100e-46be-b067-6f7f6a6c41f7"
   },
   "outputs": [
    {
     "name": "stdout",
     "output_type": "stream",
     "text": [
      "Training dataframe shape: (1042, 13)\n",
      "Testing dataframe shape: (261, 13)\n"
     ]
    }
   ],
   "source": [
    "df_train, df_test = train_test_split(df, test_size=0.20, random_state=1)\n",
    "\n",
    "print(f'Training dataframe shape: {df_train.shape}')\n",
    "print(f'Testing dataframe shape: {df_test.shape}')"
   ]
  },
  {
   "cell_type": "markdown",
   "metadata": {},
   "source": [
    "### Drop unnecessary columns\n",
    "\n",
    "`laptop_id`"
   ]
  },
  {
   "cell_type": "code",
   "execution_count": 10,
   "metadata": {},
   "outputs": [
    {
     "data": {
      "text/html": [
       "<div>\n",
       "<style scoped>\n",
       "    .dataframe tbody tr th:only-of-type {\n",
       "        vertical-align: middle;\n",
       "    }\n",
       "\n",
       "    .dataframe tbody tr th {\n",
       "        vertical-align: top;\n",
       "    }\n",
       "\n",
       "    .dataframe thead th {\n",
       "        text-align: right;\n",
       "    }\n",
       "</style>\n",
       "<table border=\"1\" class=\"dataframe\">\n",
       "  <thead>\n",
       "    <tr style=\"text-align: right;\">\n",
       "      <th></th>\n",
       "      <th>company</th>\n",
       "      <th>product</th>\n",
       "      <th>typename</th>\n",
       "      <th>inches</th>\n",
       "      <th>screenresolution</th>\n",
       "      <th>cpu</th>\n",
       "      <th>ram</th>\n",
       "      <th>memory</th>\n",
       "      <th>gpu</th>\n",
       "      <th>opsys</th>\n",
       "      <th>weight</th>\n",
       "      <th>price_euros</th>\n",
       "    </tr>\n",
       "  </thead>\n",
       "  <tbody>\n",
       "    <tr>\n",
       "      <th>951</th>\n",
       "      <td>dell</td>\n",
       "      <td>latitude_7480</td>\n",
       "      <td>ultrabook</td>\n",
       "      <td>14.0</td>\n",
       "      <td>full_hd_1920x1080</td>\n",
       "      <td>intel_core_i7_7600u_2.8ghz</td>\n",
       "      <td>8gb</td>\n",
       "      <td>256gb_ssd</td>\n",
       "      <td>intel_hd_graphics_620</td>\n",
       "      <td>windows_10</td>\n",
       "      <td>1.36kg</td>\n",
       "      <td>1775.00</td>\n",
       "    </tr>\n",
       "    <tr>\n",
       "      <th>741</th>\n",
       "      <td>dell</td>\n",
       "      <td>vostro_3568</td>\n",
       "      <td>notebook</td>\n",
       "      <td>15.6</td>\n",
       "      <td>1366x768</td>\n",
       "      <td>intel_core_i3_6006u_2ghz</td>\n",
       "      <td>8gb</td>\n",
       "      <td>256gb_ssd</td>\n",
       "      <td>intel_hd_graphics_520</td>\n",
       "      <td>windows_10</td>\n",
       "      <td>2kg</td>\n",
       "      <td>665.00</td>\n",
       "    </tr>\n",
       "    <tr>\n",
       "      <th>1148</th>\n",
       "      <td>hp</td>\n",
       "      <td>elitebook_850</td>\n",
       "      <td>notebook</td>\n",
       "      <td>15.6</td>\n",
       "      <td>full_hd_1920x1080</td>\n",
       "      <td>intel_core_i5_6200u_2.3ghz</td>\n",
       "      <td>8gb</td>\n",
       "      <td>256gb_ssd</td>\n",
       "      <td>intel_hd_graphics_520</td>\n",
       "      <td>windows_7</td>\n",
       "      <td>1.88kg</td>\n",
       "      <td>1579.00</td>\n",
       "    </tr>\n",
       "    <tr>\n",
       "      <th>491</th>\n",
       "      <td>toshiba</td>\n",
       "      <td>portege_x30-d-10l</td>\n",
       "      <td>ultrabook</td>\n",
       "      <td>13.3</td>\n",
       "      <td>full_hd_/_touchscreen_1920x1080</td>\n",
       "      <td>intel_core_i7_7500u_2.7ghz</td>\n",
       "      <td>32gb</td>\n",
       "      <td>512gb_ssd</td>\n",
       "      <td>intel_hd_graphics_620</td>\n",
       "      <td>windows_10</td>\n",
       "      <td>1.05kg</td>\n",
       "      <td>2799.00</td>\n",
       "    </tr>\n",
       "    <tr>\n",
       "      <th>495</th>\n",
       "      <td>lenovo</td>\n",
       "      <td>thinkpad_x260</td>\n",
       "      <td>ultrabook</td>\n",
       "      <td>12.5</td>\n",
       "      <td>ips_panel_1366x768</td>\n",
       "      <td>intel_core_i5_6200u_2.3ghz</td>\n",
       "      <td>8gb</td>\n",
       "      <td>180gb_ssd</td>\n",
       "      <td>intel_hd_graphics_520</td>\n",
       "      <td>windows_10</td>\n",
       "      <td>1.3kg</td>\n",
       "      <td>1099.00</td>\n",
       "    </tr>\n",
       "    <tr>\n",
       "      <th>...</th>\n",
       "      <td>...</td>\n",
       "      <td>...</td>\n",
       "      <td>...</td>\n",
       "      <td>...</td>\n",
       "      <td>...</td>\n",
       "      <td>...</td>\n",
       "      <td>...</td>\n",
       "      <td>...</td>\n",
       "      <td>...</td>\n",
       "      <td>...</td>\n",
       "      <td>...</td>\n",
       "      <td>...</td>\n",
       "    </tr>\n",
       "    <tr>\n",
       "      <th>715</th>\n",
       "      <td>lenovo</td>\n",
       "      <td>thinkpad_e470</td>\n",
       "      <td>notebook</td>\n",
       "      <td>14.0</td>\n",
       "      <td>ips_panel_full_hd_1920x1080</td>\n",
       "      <td>intel_core_i5_7200u_2.5ghz</td>\n",
       "      <td>8gb</td>\n",
       "      <td>256gb_ssd</td>\n",
       "      <td>nvidia_geforce_920mx</td>\n",
       "      <td>windows_10</td>\n",
       "      <td>1.87kg</td>\n",
       "      <td>857.07</td>\n",
       "    </tr>\n",
       "    <tr>\n",
       "      <th>905</th>\n",
       "      <td>lg</td>\n",
       "      <td>gram_15z970</td>\n",
       "      <td>ultrabook</td>\n",
       "      <td>15.6</td>\n",
       "      <td>ips_panel_full_hd_/_touchscreen_1920x1080</td>\n",
       "      <td>intel_core_i7_7500u_2.7ghz</td>\n",
       "      <td>16gb</td>\n",
       "      <td>512gb_ssd</td>\n",
       "      <td>intel_hd_graphics_620</td>\n",
       "      <td>windows_10</td>\n",
       "      <td>1.08kg</td>\n",
       "      <td>2099.00</td>\n",
       "    </tr>\n",
       "    <tr>\n",
       "      <th>1096</th>\n",
       "      <td>dell</td>\n",
       "      <td>inspiron_5567</td>\n",
       "      <td>notebook</td>\n",
       "      <td>15.6</td>\n",
       "      <td>full_hd_1920x1080</td>\n",
       "      <td>intel_core_i5_7200u_2.5ghz</td>\n",
       "      <td>8gb</td>\n",
       "      <td>1tb_hdd</td>\n",
       "      <td>amd_radeon_r7_m445</td>\n",
       "      <td>windows_10</td>\n",
       "      <td>2.36kg</td>\n",
       "      <td>638.80</td>\n",
       "    </tr>\n",
       "    <tr>\n",
       "      <th>235</th>\n",
       "      <td>dell</td>\n",
       "      <td>inspiron_5567</td>\n",
       "      <td>notebook</td>\n",
       "      <td>15.6</td>\n",
       "      <td>full_hd_1920x1080</td>\n",
       "      <td>intel_core_i7_7500u_2.7ghz</td>\n",
       "      <td>16gb</td>\n",
       "      <td>256gb_ssd</td>\n",
       "      <td>amd_radeon_r7_m445</td>\n",
       "      <td>linux</td>\n",
       "      <td>2.36kg</td>\n",
       "      <td>899.00</td>\n",
       "    </tr>\n",
       "    <tr>\n",
       "      <th>1061</th>\n",
       "      <td>asus</td>\n",
       "      <td>rog_g752vl-gc088d</td>\n",
       "      <td>gaming</td>\n",
       "      <td>17.3</td>\n",
       "      <td>ips_panel_full_hd_1920x1080</td>\n",
       "      <td>intel_core_i7_6700hq_2.6ghz</td>\n",
       "      <td>16gb</td>\n",
       "      <td>1tb_hdd</td>\n",
       "      <td>nvidia_geforce_gtx_965m</td>\n",
       "      <td>no_os</td>\n",
       "      <td>4kg</td>\n",
       "      <td>998.00</td>\n",
       "    </tr>\n",
       "  </tbody>\n",
       "</table>\n",
       "<p>1042 rows × 12 columns</p>\n",
       "</div>"
      ],
      "text/plain": [
       "      company            product   typename  inches  \\\n",
       "951      dell      latitude_7480  ultrabook    14.0   \n",
       "741      dell        vostro_3568   notebook    15.6   \n",
       "1148       hp      elitebook_850   notebook    15.6   \n",
       "491   toshiba  portege_x30-d-10l  ultrabook    13.3   \n",
       "495    lenovo      thinkpad_x260  ultrabook    12.5   \n",
       "...       ...                ...        ...     ...   \n",
       "715    lenovo      thinkpad_e470   notebook    14.0   \n",
       "905        lg        gram_15z970  ultrabook    15.6   \n",
       "1096     dell      inspiron_5567   notebook    15.6   \n",
       "235      dell      inspiron_5567   notebook    15.6   \n",
       "1061     asus  rog_g752vl-gc088d     gaming    17.3   \n",
       "\n",
       "                               screenresolution                          cpu  \\\n",
       "951                           full_hd_1920x1080   intel_core_i7_7600u_2.8ghz   \n",
       "741                                    1366x768     intel_core_i3_6006u_2ghz   \n",
       "1148                          full_hd_1920x1080   intel_core_i5_6200u_2.3ghz   \n",
       "491             full_hd_/_touchscreen_1920x1080   intel_core_i7_7500u_2.7ghz   \n",
       "495                          ips_panel_1366x768   intel_core_i5_6200u_2.3ghz   \n",
       "...                                         ...                          ...   \n",
       "715                 ips_panel_full_hd_1920x1080   intel_core_i5_7200u_2.5ghz   \n",
       "905   ips_panel_full_hd_/_touchscreen_1920x1080   intel_core_i7_7500u_2.7ghz   \n",
       "1096                          full_hd_1920x1080   intel_core_i5_7200u_2.5ghz   \n",
       "235                           full_hd_1920x1080   intel_core_i7_7500u_2.7ghz   \n",
       "1061                ips_panel_full_hd_1920x1080  intel_core_i7_6700hq_2.6ghz   \n",
       "\n",
       "       ram     memory                      gpu       opsys  weight  \\\n",
       "951    8gb  256gb_ssd    intel_hd_graphics_620  windows_10  1.36kg   \n",
       "741    8gb  256gb_ssd    intel_hd_graphics_520  windows_10     2kg   \n",
       "1148   8gb  256gb_ssd    intel_hd_graphics_520   windows_7  1.88kg   \n",
       "491   32gb  512gb_ssd    intel_hd_graphics_620  windows_10  1.05kg   \n",
       "495    8gb  180gb_ssd    intel_hd_graphics_520  windows_10   1.3kg   \n",
       "...    ...        ...                      ...         ...     ...   \n",
       "715    8gb  256gb_ssd     nvidia_geforce_920mx  windows_10  1.87kg   \n",
       "905   16gb  512gb_ssd    intel_hd_graphics_620  windows_10  1.08kg   \n",
       "1096   8gb    1tb_hdd       amd_radeon_r7_m445  windows_10  2.36kg   \n",
       "235   16gb  256gb_ssd       amd_radeon_r7_m445       linux  2.36kg   \n",
       "1061  16gb    1tb_hdd  nvidia_geforce_gtx_965m       no_os     4kg   \n",
       "\n",
       "      price_euros  \n",
       "951       1775.00  \n",
       "741        665.00  \n",
       "1148      1579.00  \n",
       "491       2799.00  \n",
       "495       1099.00  \n",
       "...           ...  \n",
       "715        857.07  \n",
       "905       2099.00  \n",
       "1096       638.80  \n",
       "235        899.00  \n",
       "1061       998.00  \n",
       "\n",
       "[1042 rows x 12 columns]"
      ]
     },
     "metadata": {},
     "output_type": "display_data"
    }
   ],
   "source": [
    "del df_train['laptop_id']\n",
    "display(df_train)"
   ]
  },
  {
   "cell_type": "markdown",
   "metadata": {
    "id": "h9wa40mbZBPq"
   },
   "source": [
    "### Missing values."
   ]
  },
  {
   "cell_type": "code",
   "execution_count": 11,
   "metadata": {
    "colab": {
     "base_uri": "https://localhost:8080/"
    },
    "id": "v9a4oCJeY0DD",
    "outputId": "5af3206a-7b7b-4061-c7e4-d90d64093d47"
   },
   "outputs": [
    {
     "data": {
      "text/plain": [
       "laptop_id           0\n",
       "company             0\n",
       "product             0\n",
       "typename            0\n",
       "inches              0\n",
       "screenresolution    0\n",
       "cpu                 0\n",
       "ram                 0\n",
       "memory              0\n",
       "gpu                 0\n",
       "opsys               0\n",
       "weight              0\n",
       "price_euros         0\n",
       "dtype: int64"
      ]
     },
     "execution_count": 11,
     "metadata": {},
     "output_type": "execute_result"
    }
   ],
   "source": [
    "df.isnull().sum()"
   ]
  },
  {
   "cell_type": "markdown",
   "metadata": {},
   "source": [
    "### Remove duplicates"
   ]
  },
  {
   "cell_type": "code",
   "execution_count": 12,
   "metadata": {},
   "outputs": [
    {
     "name": "stdout",
     "output_type": "stream",
     "text": [
      "Number of laptops: 1042\n",
      "Number of laptops without duplicates: 1021\n"
     ]
    }
   ],
   "source": [
    "print(f'Number of laptops: {len(df_train)}')\n",
    "df_train.drop_duplicates(inplace=True)\n",
    "print(f'Number of laptops without duplicates: {len(df_train)}')"
   ]
  },
  {
   "cell_type": "markdown",
   "metadata": {},
   "source": [
    "### Change \"ram\" and \"weight\" to numerical column"
   ]
  },
  {
   "cell_type": "code",
   "execution_count": 13,
   "metadata": {},
   "outputs": [],
   "source": [
    "def to_numeric(value):\n",
    "    number = re.search(r'[0-9]+([.][0-9]+)?', value).group()\n",
    "    try:\n",
    "        if '.' in number:\n",
    "            number = float(number)\n",
    "            return number\n",
    "        else:\n",
    "            number = int(number)\n",
    "            return number\n",
    "    except ValueError:\n",
    "        print('Isn\\'t a number!')"
   ]
  },
  {
   "cell_type": "code",
   "execution_count": 14,
   "metadata": {},
   "outputs": [
    {
     "data": {
      "text/html": [
       "<div>\n",
       "<style scoped>\n",
       "    .dataframe tbody tr th:only-of-type {\n",
       "        vertical-align: middle;\n",
       "    }\n",
       "\n",
       "    .dataframe tbody tr th {\n",
       "        vertical-align: top;\n",
       "    }\n",
       "\n",
       "    .dataframe thead th {\n",
       "        text-align: right;\n",
       "    }\n",
       "</style>\n",
       "<table border=\"1\" class=\"dataframe\">\n",
       "  <thead>\n",
       "    <tr style=\"text-align: right;\">\n",
       "      <th></th>\n",
       "      <th>company</th>\n",
       "      <th>product</th>\n",
       "      <th>typename</th>\n",
       "      <th>inches</th>\n",
       "      <th>screenresolution</th>\n",
       "      <th>cpu</th>\n",
       "      <th>ram</th>\n",
       "      <th>memory</th>\n",
       "      <th>gpu</th>\n",
       "      <th>opsys</th>\n",
       "      <th>weight</th>\n",
       "      <th>price_euros</th>\n",
       "    </tr>\n",
       "  </thead>\n",
       "  <tbody>\n",
       "    <tr>\n",
       "      <th>951</th>\n",
       "      <td>dell</td>\n",
       "      <td>latitude_7480</td>\n",
       "      <td>ultrabook</td>\n",
       "      <td>14.0</td>\n",
       "      <td>full_hd_1920x1080</td>\n",
       "      <td>intel_core_i7_7600u_2.8ghz</td>\n",
       "      <td>8</td>\n",
       "      <td>256gb_ssd</td>\n",
       "      <td>intel_hd_graphics_620</td>\n",
       "      <td>windows_10</td>\n",
       "      <td>1.36</td>\n",
       "      <td>1775.0</td>\n",
       "    </tr>\n",
       "    <tr>\n",
       "      <th>741</th>\n",
       "      <td>dell</td>\n",
       "      <td>vostro_3568</td>\n",
       "      <td>notebook</td>\n",
       "      <td>15.6</td>\n",
       "      <td>1366x768</td>\n",
       "      <td>intel_core_i3_6006u_2ghz</td>\n",
       "      <td>8</td>\n",
       "      <td>256gb_ssd</td>\n",
       "      <td>intel_hd_graphics_520</td>\n",
       "      <td>windows_10</td>\n",
       "      <td>2.00</td>\n",
       "      <td>665.0</td>\n",
       "    </tr>\n",
       "    <tr>\n",
       "      <th>1148</th>\n",
       "      <td>hp</td>\n",
       "      <td>elitebook_850</td>\n",
       "      <td>notebook</td>\n",
       "      <td>15.6</td>\n",
       "      <td>full_hd_1920x1080</td>\n",
       "      <td>intel_core_i5_6200u_2.3ghz</td>\n",
       "      <td>8</td>\n",
       "      <td>256gb_ssd</td>\n",
       "      <td>intel_hd_graphics_520</td>\n",
       "      <td>windows_7</td>\n",
       "      <td>1.88</td>\n",
       "      <td>1579.0</td>\n",
       "    </tr>\n",
       "    <tr>\n",
       "      <th>491</th>\n",
       "      <td>toshiba</td>\n",
       "      <td>portege_x30-d-10l</td>\n",
       "      <td>ultrabook</td>\n",
       "      <td>13.3</td>\n",
       "      <td>full_hd_/_touchscreen_1920x1080</td>\n",
       "      <td>intel_core_i7_7500u_2.7ghz</td>\n",
       "      <td>32</td>\n",
       "      <td>512gb_ssd</td>\n",
       "      <td>intel_hd_graphics_620</td>\n",
       "      <td>windows_10</td>\n",
       "      <td>1.05</td>\n",
       "      <td>2799.0</td>\n",
       "    </tr>\n",
       "    <tr>\n",
       "      <th>495</th>\n",
       "      <td>lenovo</td>\n",
       "      <td>thinkpad_x260</td>\n",
       "      <td>ultrabook</td>\n",
       "      <td>12.5</td>\n",
       "      <td>ips_panel_1366x768</td>\n",
       "      <td>intel_core_i5_6200u_2.3ghz</td>\n",
       "      <td>8</td>\n",
       "      <td>180gb_ssd</td>\n",
       "      <td>intel_hd_graphics_520</td>\n",
       "      <td>windows_10</td>\n",
       "      <td>1.30</td>\n",
       "      <td>1099.0</td>\n",
       "    </tr>\n",
       "  </tbody>\n",
       "</table>\n",
       "</div>"
      ],
      "text/plain": [
       "      company            product   typename  inches  \\\n",
       "951      dell      latitude_7480  ultrabook    14.0   \n",
       "741      dell        vostro_3568   notebook    15.6   \n",
       "1148       hp      elitebook_850   notebook    15.6   \n",
       "491   toshiba  portege_x30-d-10l  ultrabook    13.3   \n",
       "495    lenovo      thinkpad_x260  ultrabook    12.5   \n",
       "\n",
       "                     screenresolution                         cpu  ram  \\\n",
       "951                 full_hd_1920x1080  intel_core_i7_7600u_2.8ghz    8   \n",
       "741                          1366x768    intel_core_i3_6006u_2ghz    8   \n",
       "1148                full_hd_1920x1080  intel_core_i5_6200u_2.3ghz    8   \n",
       "491   full_hd_/_touchscreen_1920x1080  intel_core_i7_7500u_2.7ghz   32   \n",
       "495                ips_panel_1366x768  intel_core_i5_6200u_2.3ghz    8   \n",
       "\n",
       "         memory                    gpu       opsys  weight  price_euros  \n",
       "951   256gb_ssd  intel_hd_graphics_620  windows_10    1.36       1775.0  \n",
       "741   256gb_ssd  intel_hd_graphics_520  windows_10    2.00        665.0  \n",
       "1148  256gb_ssd  intel_hd_graphics_520   windows_7    1.88       1579.0  \n",
       "491   512gb_ssd  intel_hd_graphics_620  windows_10    1.05       2799.0  \n",
       "495   180gb_ssd  intel_hd_graphics_520  windows_10    1.30       1099.0  "
      ]
     },
     "metadata": {},
     "output_type": "display_data"
    }
   ],
   "source": [
    "df_train.ram = df_train.ram.apply(to_numeric)\n",
    "df_train.weight = df_train.weight.apply(to_numeric)\n",
    "display(df_train.head())"
   ]
  },
  {
   "cell_type": "markdown",
   "metadata": {
    "id": "C3Oei0ExOliX"
   },
   "source": [
    "## Exploratoty data analysis\n",
    "\n",
    "- Look at the target variable\n",
    "- Split categorical and numerical features\n",
    "- Feature importance: mutual information\n",
    "- Feature importance: correlation\n",
    "- Select the relevant columns"
   ]
  },
  {
   "cell_type": "markdown",
   "metadata": {},
   "source": [
    "### Distribuition of price."
   ]
  },
  {
   "cell_type": "code",
   "execution_count": 15,
   "metadata": {
    "colab": {
     "base_uri": "https://localhost:8080/",
     "height": 524
    },
    "id": "AtjcGi9fOliY",
    "outputId": "05bc0a0d-8678-46a4-d6b1-6f9b73cc415d"
   },
   "outputs": [
    {
     "data": {
      "image/png": "[encoded data removed]",
      "text/plain": [
       "<Figure size 700x700 with 1 Axes>"
      ]
     },
     "metadata": {},
     "output_type": "display_data"
    }
   ],
   "source": [
    "plt.figure(figsize=(7, 7))\n",
    "plt.hist(df_train.price_euros, bins=30, edgecolor='white')\n",
    "plt.title('Distribuition of prices €$')\n",
    "plt.xlabel('Prices')\n",
    "plt.ylabel('Count')\n",
    "plt.show()"
   ]
  },
  {
   "cell_type": "code",
   "execution_count": 16,
   "metadata": {},
   "outputs": [
    {
     "data": {
      "image/png": "[encoded data removed]",
      "text/plain": [
       "<Figure size 700x700 with 1 Axes>"
      ]
     },
     "metadata": {},
     "output_type": "display_data"
    }
   ],
   "source": [
    "plt.figure(figsize=(7, 7))\n",
    "plt.boxplot(df_train.price_euros)\n",
    "plt.title('Boxplot of prices €$')\n",
    "plt.show()"
   ]
  },
  {
   "cell_type": "code",
   "execution_count": 17,
   "metadata": {},
   "outputs": [
    {
     "data": {
      "text/plain": [
       "count    1021.000000\n",
       "mean     1122.074212\n",
       "std       699.353437\n",
       "min       174.000000\n",
       "25%       599.000000\n",
       "50%       979.000000\n",
       "75%      1479.000000\n",
       "max      6099.000000\n",
       "Name: price_euros, dtype: float64"
      ]
     },
     "execution_count": 17,
     "metadata": {},
     "output_type": "execute_result"
    }
   ],
   "source": [
    "df_train.price_euros.describe()"
   ]
  },
  {
   "cell_type": "markdown",
   "metadata": {},
   "source": [
    "### Distribution of Companies."
   ]
  },
  {
   "cell_type": "code",
   "execution_count": 18,
   "metadata": {},
   "outputs": [
    {
     "data": {
      "image/png": "[encoded data removed]",
      "text/plain": [
       "<Figure size 800x550 with 1 Axes>"
      ]
     },
     "metadata": {},
     "output_type": "display_data"
    }
   ],
   "source": [
    "company = df_train.company.value_counts()\n",
    "plt.barh(company.index, company.values)\n",
    "plt.title('Distribution of Manufacturer companies.')\n",
    "plt.xlabel('Count')\n",
    "plt.ylabel('Company')\n",
    "plt.show()"
   ]
  },
  {
   "cell_type": "code",
   "execution_count": 19,
   "metadata": {},
   "outputs": [
    {
     "name": "stdout",
     "output_type": "stream",
     "text": [
      "Share of the tree most companies: 65.82%\n"
     ]
    }
   ],
   "source": [
    "share = company[['dell', 'lenovo', 'hp']].sum() / company.sum()\n",
    "print(f'Share of the tree most companies: {share*100:.2f}%')"
   ]
  },
  {
   "cell_type": "markdown",
   "metadata": {},
   "source": [
    "### Distribution of Product."
   ]
  },
  {
   "cell_type": "code",
   "execution_count": 20,
   "metadata": {},
   "outputs": [
    {
     "data": {
      "image/png": "[encoded data removed]",
      "text/plain": [
       "<Figure size 800x550 with 1 Axes>"
      ]
     },
     "metadata": {},
     "output_type": "display_data"
    }
   ],
   "source": [
    "typename = df_train.typename.value_counts()\n",
    "plt.barh(typename.index, typename.values)\n",
    "plt.title('Distribution of Product.')\n",
    "plt.xlabel('Count')\n",
    "plt.ylabel('Product')\n",
    "plt.show()"
   ]
  },
  {
   "cell_type": "markdown",
   "metadata": {},
   "source": [
    "### Distribuition of Inches."
   ]
  },
  {
   "cell_type": "code",
   "execution_count": 21,
   "metadata": {},
   "outputs": [
    {
     "data": {
      "image/png": "[encoded data removed]",
      "text/plain": [
       "<Figure size 800x550 with 1 Axes>"
      ]
     },
     "metadata": {},
     "output_type": "display_data"
    }
   ],
   "source": [
    "inches = df_train.inches.value_counts()\n",
    "plt.bar(inches.index, inches.values, edgecolor='white')\n",
    "plt.title('Distribution of Inches.')\n",
    "plt.xlabel('Count')\n",
    "plt.ylabel('Inches')\n",
    "plt.show()"
   ]
  },
  {
   "cell_type": "code",
   "execution_count": 22,
   "metadata": {},
   "outputs": [
    {
     "data": {
      "text/plain": [
       "15.6    520\n",
       "14.0    153\n",
       "13.3    129\n",
       "17.3    129\n",
       "12.5     32\n",
       "Name: inches, dtype: int64"
      ]
     },
     "execution_count": 22,
     "metadata": {},
     "output_type": "execute_result"
    }
   ],
   "source": [
    "inches.iloc[:5]"
   ]
  },
  {
   "cell_type": "markdown",
   "metadata": {},
   "source": [
    "### Distribuition of CPU."
   ]
  },
  {
   "cell_type": "code",
   "execution_count": 23,
   "metadata": {},
   "outputs": [
    {
     "data": {
      "text/plain": [
       "intel_core_i5_7200u_2.5ghz     148\n",
       "intel_core_i7_7700hq_2.8ghz    112\n",
       "intel_core_i7_7500u_2.7ghz     107\n",
       "intel_core_i7_8550u_1.8ghz      61\n",
       "intel_core_i5_6200u_2.3ghz      57\n",
       "Name: cpu, dtype: int64"
      ]
     },
     "execution_count": 23,
     "metadata": {},
     "output_type": "execute_result"
    }
   ],
   "source": [
    "cpu = df_train.cpu.value_counts()[:5]\n",
    "cpu"
   ]
  },
  {
   "cell_type": "code",
   "execution_count": 24,
   "metadata": {},
   "outputs": [
    {
     "data": {
      "image/png": "[encoded data removed]",
      "text/plain": [
       "<Figure size 800x550 with 1 Axes>"
      ]
     },
     "metadata": {},
     "output_type": "display_data"
    }
   ],
   "source": [
    "plt.barh(cpu.index, cpu.values)\n",
    "plt.title('Distribution of CPU.')\n",
    "plt.xlabel('Count')\n",
    "plt.ylabel('CPU')\n",
    "plt.show()"
   ]
  },
  {
   "cell_type": "markdown",
   "metadata": {},
   "source": [
    "### Distribution of Memory RAM."
   ]
  },
  {
   "cell_type": "code",
   "execution_count": 25,
   "metadata": {},
   "outputs": [
    {
     "data": {
      "text/plain": [
       "8     494\n",
       "4     295\n",
       "16    155\n",
       "6      28\n",
       "12     17\n",
       "2      16\n",
       "32     12\n",
       "24      3\n",
       "64      1\n",
       "Name: ram, dtype: int64"
      ]
     },
     "execution_count": 25,
     "metadata": {},
     "output_type": "execute_result"
    }
   ],
   "source": [
    "ram = df_train.ram.value_counts()\n",
    "ram"
   ]
  },
  {
   "cell_type": "code",
   "execution_count": 26,
   "metadata": {},
   "outputs": [
    {
     "data": {
      "image/png": "[encoded data removed]",
      "text/plain": [
       "<Figure size 800x550 with 1 Axes>"
      ]
     },
     "metadata": {},
     "output_type": "display_data"
    }
   ],
   "source": [
    "plt.bar(ram[:5].index, ram[:5].values)\n",
    "plt.title('Distribution of Memory RAM.')\n",
    "plt.xlabel('Count')\n",
    "plt.ylabel('Memory RAM')\n",
    "plt.xticks(ram[:5].index)\n",
    "plt.show()"
   ]
  },
  {
   "cell_type": "markdown",
   "metadata": {},
   "source": [
    "### Distribution of GPU."
   ]
  },
  {
   "cell_type": "code",
   "execution_count": 27,
   "metadata": {},
   "outputs": [
    {
     "data": {
      "image/png": "[encoded data removed]",
      "text/plain": [
       "<Figure size 800x550 with 1 Axes>"
      ]
     },
     "metadata": {},
     "output_type": "display_data"
    }
   ],
   "source": [
    "gpu = df_train.gpu.value_counts()[:10]\n",
    "plt.barh(gpu.index, gpu.values)\n",
    "plt.title('Distribution of the 10 most used GPU.')\n",
    "plt.xlabel('Count')\n",
    "plt.ylabel('GPU')\n",
    "plt.show()"
   ]
  },
  {
   "cell_type": "markdown",
   "metadata": {},
   "source": [
    "### Distribution of Operationg System - OS."
   ]
  },
  {
   "cell_type": "code",
   "execution_count": 28,
   "metadata": {},
   "outputs": [
    {
     "data": {
      "image/png": "[encoded data removed]",
      "text/plain": [
       "<Figure size 800x550 with 1 Axes>"
      ]
     },
     "metadata": {},
     "output_type": "display_data"
    }
   ],
   "source": [
    "os = df_train.opsys.value_counts()\n",
    "plt.barh(os.index, os.values)\n",
    "plt.title('Distribution of Operationg System - OS.')\n",
    "plt.xlabel('Count')\n",
    "plt.ylabel('Operating System - OS')\n",
    "plt.show()"
   ]
  },
  {
   "cell_type": "code",
   "execution_count": 29,
   "metadata": {},
   "outputs": [
    {
     "name": "stdout",
     "output_type": "stream",
     "text": [
      "Share of Windows 10 operating system: 81.78%\n"
     ]
    }
   ],
   "source": [
    "os_share = os['windows_10'] / os.sum()\n",
    "print(f'Share of Windows 10 operating system: {os_share*100:.2f}%')"
   ]
  },
  {
   "cell_type": "markdown",
   "metadata": {},
   "source": [
    "### Distribution of Weight"
   ]
  },
  {
   "cell_type": "code",
   "execution_count": 30,
   "metadata": {},
   "outputs": [
    {
     "data": {
      "image/png": "[encoded data removed]",
      "text/plain": [
       "<Figure size 800x550 with 1 Axes>"
      ]
     },
     "metadata": {},
     "output_type": "display_data"
    }
   ],
   "source": [
    "plt.hist(df_train.weight, bins=30, edgecolor='white')\n",
    "plt.title('Distribution of Weight.')\n",
    "plt.show()"
   ]
  },
  {
   "cell_type": "markdown",
   "metadata": {},
   "source": [
    "### Split categorical and numerical features"
   ]
  },
  {
   "cell_type": "code",
   "execution_count": 31,
   "metadata": {},
   "outputs": [],
   "source": [
    "columns_cols = set(df_train.columns)\n",
    "num_cols = set(df_train.dtypes[df_train.dtypes != 'object'].index)\n",
    "cat_cols = columns_cols - num_cols"
   ]
  },
  {
   "cell_type": "code",
   "execution_count": 32,
   "metadata": {},
   "outputs": [
    {
     "data": {
      "text/plain": [
       "['gpu',\n",
       " 'screenresolution',\n",
       " 'cpu',\n",
       " 'typename',\n",
       " 'product',\n",
       " 'opsys',\n",
       " 'company',\n",
       " 'memory']"
      ]
     },
     "execution_count": 32,
     "metadata": {},
     "output_type": "execute_result"
    }
   ],
   "source": [
    "cat_cols = list(cat_cols)\n",
    "cat_cols"
   ]
  },
  {
   "cell_type": "code",
   "execution_count": 33,
   "metadata": {},
   "outputs": [
    {
     "data": {
      "text/plain": [
       "['weight', 'ram', 'inches']"
      ]
     },
     "execution_count": 33,
     "metadata": {},
     "output_type": "execute_result"
    }
   ],
   "source": [
    "num_cols = list(num_cols)\n",
    "num_cols.remove('price_euros')\n",
    "num_cols"
   ]
  },
  {
   "cell_type": "code",
   "execution_count": 34,
   "metadata": {},
   "outputs": [
    {
     "name": "stdout",
     "output_type": "stream",
     "text": [
      "Categorical columns: 8\n",
      "Numerical columns: 3\n"
     ]
    }
   ],
   "source": [
    "print(f'Categorical columns: {len(cat_cols)}\\n'\n",
    "     f'Numerical columns: {len(num_cols)}')"
   ]
  },
  {
   "cell_type": "markdown",
   "metadata": {},
   "source": [
    "### Label encoding"
   ]
  },
  {
   "cell_type": "code",
   "execution_count": 35,
   "metadata": {},
   "outputs": [],
   "source": [
    "gpu_encoder = LabelEncoder()\n",
    "typename_encoder = LabelEncoder()\n",
    "cpu_encoder = LabelEncoder()\n",
    "memory_encoder = LabelEncoder()\n",
    "resolution_encoder = LabelEncoder()\n",
    "company_encoder = LabelEncoder()\n",
    "product_encoder = LabelEncoder()\n",
    "opsys_encoder = LabelEncoder()"
   ]
  },
  {
   "cell_type": "code",
   "execution_count": 36,
   "metadata": {},
   "outputs": [],
   "source": [
    "df_train['gpu'] = gpu_encoder.fit_transform(df_train['gpu'])\n",
    "df_train['typename'] = typename_encoder.fit_transform(df_train['typename'])\n",
    "df_train['cpu'] = cpu_encoder.fit_transform(df_train['cpu'])\n",
    "df_train['memory'] = memory_encoder.fit_transform(df_train['memory'])\n",
    "df_train['screenresolution'] = resolution_encoder.fit_transform(df_train['screenresolution'])\n",
    "df_train['company'] = company_encoder.fit_transform(df_train['company'])\n",
    "df_train['product'] = product_encoder.fit_transform(df_train['product'])\n",
    "df_train['opsys'] = opsys_encoder.fit_transform(df_train['opsys'])"
   ]
  },
  {
   "cell_type": "code",
   "execution_count": 37,
   "metadata": {},
   "outputs": [
    {
     "data": {
      "text/html": [
       "<div>\n",
       "<style scoped>\n",
       "    .dataframe tbody tr th:only-of-type {\n",
       "        vertical-align: middle;\n",
       "    }\n",
       "\n",
       "    .dataframe tbody tr th {\n",
       "        vertical-align: top;\n",
       "    }\n",
       "\n",
       "    .dataframe thead th {\n",
       "        text-align: right;\n",
       "    }\n",
       "</style>\n",
       "<table border=\"1\" class=\"dataframe\">\n",
       "  <thead>\n",
       "    <tr style=\"text-align: right;\">\n",
       "      <th></th>\n",
       "      <th>company</th>\n",
       "      <th>product</th>\n",
       "      <th>typename</th>\n",
       "      <th>inches</th>\n",
       "      <th>screenresolution</th>\n",
       "      <th>cpu</th>\n",
       "      <th>ram</th>\n",
       "      <th>memory</th>\n",
       "      <th>gpu</th>\n",
       "      <th>opsys</th>\n",
       "      <th>weight</th>\n",
       "      <th>price_euros</th>\n",
       "    </tr>\n",
       "  </thead>\n",
       "  <tbody>\n",
       "    <tr>\n",
       "      <th>951</th>\n",
       "      <td>4</td>\n",
       "      <td>230</td>\n",
       "      <td>4</td>\n",
       "      <td>14.0</td>\n",
       "      <td>8</td>\n",
       "      <td>77</td>\n",
       "      <td>8</td>\n",
       "      <td>16</td>\n",
       "      <td>44</td>\n",
       "      <td>6</td>\n",
       "      <td>1.36</td>\n",
       "      <td>1775.0</td>\n",
       "    </tr>\n",
       "    <tr>\n",
       "      <th>741</th>\n",
       "      <td>4</td>\n",
       "      <td>431</td>\n",
       "      <td>3</td>\n",
       "      <td>15.6</td>\n",
       "      <td>0</td>\n",
       "      <td>39</td>\n",
       "      <td>8</td>\n",
       "      <td>16</td>\n",
       "      <td>38</td>\n",
       "      <td>6</td>\n",
       "      <td>2.00</td>\n",
       "      <td>665.0</td>\n",
       "    </tr>\n",
       "    <tr>\n",
       "      <th>1148</th>\n",
       "      <td>7</td>\n",
       "      <td>94</td>\n",
       "      <td>3</td>\n",
       "      <td>15.6</td>\n",
       "      <td>8</td>\n",
       "      <td>49</td>\n",
       "      <td>8</td>\n",
       "      <td>16</td>\n",
       "      <td>38</td>\n",
       "      <td>8</td>\n",
       "      <td>1.88</td>\n",
       "      <td>1579.0</td>\n",
       "    </tr>\n",
       "    <tr>\n",
       "      <th>491</th>\n",
       "      <td>16</td>\n",
       "      <td>269</td>\n",
       "      <td>4</td>\n",
       "      <td>13.3</td>\n",
       "      <td>7</td>\n",
       "      <td>75</td>\n",
       "      <td>32</td>\n",
       "      <td>29</td>\n",
       "      <td>44</td>\n",
       "      <td>6</td>\n",
       "      <td>1.05</td>\n",
       "      <td>2799.0</td>\n",
       "    </tr>\n",
       "    <tr>\n",
       "      <th>495</th>\n",
       "      <td>9</td>\n",
       "      <td>382</td>\n",
       "      <td>4</td>\n",
       "      <td>12.5</td>\n",
       "      <td>9</td>\n",
       "      <td>49</td>\n",
       "      <td>8</td>\n",
       "      <td>9</td>\n",
       "      <td>38</td>\n",
       "      <td>6</td>\n",
       "      <td>1.30</td>\n",
       "      <td>1099.0</td>\n",
       "    </tr>\n",
       "  </tbody>\n",
       "</table>\n",
       "</div>"
      ],
      "text/plain": [
       "      company  product  typename  inches  screenresolution  cpu  ram  memory  \\\n",
       "951         4      230         4    14.0                 8   77    8      16   \n",
       "741         4      431         3    15.6                 0   39    8      16   \n",
       "1148        7       94         3    15.6                 8   49    8      16   \n",
       "491        16      269         4    13.3                 7   75   32      29   \n",
       "495         9      382         4    12.5                 9   49    8       9   \n",
       "\n",
       "      gpu  opsys  weight  price_euros  \n",
       "951    44      6    1.36       1775.0  \n",
       "741    38      6    2.00        665.0  \n",
       "1148   38      8    1.88       1579.0  \n",
       "491    44      6    1.05       2799.0  \n",
       "495    38      6    1.30       1099.0  "
      ]
     },
     "execution_count": 37,
     "metadata": {},
     "output_type": "execute_result"
    }
   ],
   "source": [
    "df_train.head()"
   ]
  },
  {
   "cell_type": "markdown",
   "metadata": {},
   "source": [
    "### Feature importance: mutual information"
   ]
  },
  {
   "cell_type": "code",
   "execution_count": 38,
   "metadata": {},
   "outputs": [
    {
     "data": {
      "text/plain": [
       "array([0.55411541, 0.25089731, 0.6902472 , 0.31770127, 0.47011417,\n",
       "       0.10407815, 0.13381284, 0.43509593])"
      ]
     },
     "execution_count": 38,
     "metadata": {},
     "output_type": "execute_result"
    }
   ],
   "source": [
    "mutual_info_r = mutual_info_regression(df_train[cat_cols], df_train.price_euros)\n",
    "mutual_info_r"
   ]
  },
  {
   "cell_type": "code",
   "execution_count": 56,
   "metadata": {},
   "outputs": [
    {
     "data": {
      "text/html": [
       "<div>\n",
       "<style scoped>\n",
       "    .dataframe tbody tr th:only-of-type {\n",
       "        vertical-align: middle;\n",
       "    }\n",
       "\n",
       "    .dataframe tbody tr th {\n",
       "        vertical-align: top;\n",
       "    }\n",
       "\n",
       "    .dataframe thead th {\n",
       "        text-align: right;\n",
       "    }\n",
       "</style>\n",
       "<table border=\"1\" class=\"dataframe\">\n",
       "  <thead>\n",
       "    <tr style=\"text-align: right;\">\n",
       "      <th></th>\n",
       "      <th>mi</th>\n",
       "    </tr>\n",
       "    <tr>\n",
       "      <th>0</th>\n",
       "      <th></th>\n",
       "    </tr>\n",
       "  </thead>\n",
       "  <tbody>\n",
       "    <tr>\n",
       "      <th>cpu</th>\n",
       "      <td>0.690247</td>\n",
       "    </tr>\n",
       "    <tr>\n",
       "      <th>gpu</th>\n",
       "      <td>0.554115</td>\n",
       "    </tr>\n",
       "    <tr>\n",
       "      <th>product</th>\n",
       "      <td>0.470114</td>\n",
       "    </tr>\n",
       "    <tr>\n",
       "      <th>memory</th>\n",
       "      <td>0.435096</td>\n",
       "    </tr>\n",
       "    <tr>\n",
       "      <th>typename</th>\n",
       "      <td>0.317701</td>\n",
       "    </tr>\n",
       "    <tr>\n",
       "      <th>screenresolution</th>\n",
       "      <td>0.250897</td>\n",
       "    </tr>\n",
       "    <tr>\n",
       "      <th>company</th>\n",
       "      <td>0.133813</td>\n",
       "    </tr>\n",
       "    <tr>\n",
       "      <th>opsys</th>\n",
       "      <td>0.104078</td>\n",
       "    </tr>\n",
       "  </tbody>\n",
       "</table>\n",
       "</div>"
      ],
      "text/plain": [
       "                        mi\n",
       "0                         \n",
       "cpu               0.690247\n",
       "gpu               0.554115\n",
       "product           0.470114\n",
       "memory            0.435096\n",
       "typename          0.317701\n",
       "screenresolution  0.250897\n",
       "company           0.133813\n",
       "opsys             0.104078"
      ]
     },
     "execution_count": 56,
     "metadata": {},
     "output_type": "execute_result"
    }
   ],
   "source": [
    "mutual_info_df = pd.DataFrame(cat_cols)\n",
    "mutual_info_df['mi'] = mutual_info_r\n",
    "mutual_info_df = mutual_info_df.set_index(0)\n",
    "mutual_info_df.sort_values(by='mi', ascending=False, inplace=True)\n",
    "mutual_info_df"
   ]
  },
  {
   "cell_type": "markdown",
   "metadata": {
    "id": "t5D6NmqsOliZ"
   },
   "source": [
    "### Feature importance: correlation"
   ]
  },
  {
   "cell_type": "code",
   "execution_count": 63,
   "metadata": {},
   "outputs": [
    {
     "data": {
      "text/html": [
       "<div>\n",
       "<style scoped>\n",
       "    .dataframe tbody tr th:only-of-type {\n",
       "        vertical-align: middle;\n",
       "    }\n",
       "\n",
       "    .dataframe tbody tr th {\n",
       "        vertical-align: top;\n",
       "    }\n",
       "\n",
       "    .dataframe thead th {\n",
       "        text-align: right;\n",
       "    }\n",
       "</style>\n",
       "<table border=\"1\" class=\"dataframe\">\n",
       "  <thead>\n",
       "    <tr style=\"text-align: right;\">\n",
       "      <th></th>\n",
       "      <th>0</th>\n",
       "    </tr>\n",
       "  </thead>\n",
       "  <tbody>\n",
       "    <tr>\n",
       "      <th>ram</th>\n",
       "      <td>0.736197</td>\n",
       "    </tr>\n",
       "    <tr>\n",
       "      <th>weight</th>\n",
       "      <td>0.186709</td>\n",
       "    </tr>\n",
       "    <tr>\n",
       "      <th>inches</th>\n",
       "      <td>0.049140</td>\n",
       "    </tr>\n",
       "  </tbody>\n",
       "</table>\n",
       "</div>"
      ],
      "text/plain": [
       "               0\n",
       "ram     0.736197\n",
       "weight  0.186709\n",
       "inches  0.049140"
      ]
     },
     "execution_count": 63,
     "metadata": {},
     "output_type": "execute_result"
    }
   ],
   "source": [
    "corr = df_train[num_cols].corrwith(df_train.price_euros)\n",
    "corr = pd.DataFrame(corr)\n",
    "corr.sort_values(by=0, ascending=False, inplace=True)\n",
    "corr"
   ]
  },
  {
   "cell_type": "code",
   "execution_count": 61,
   "metadata": {},
   "outputs": [
    {
     "data": {
      "text/html": [
       "<div>\n",
       "<style scoped>\n",
       "    .dataframe tbody tr th:only-of-type {\n",
       "        vertical-align: middle;\n",
       "    }\n",
       "\n",
       "    .dataframe tbody tr th {\n",
       "        vertical-align: top;\n",
       "    }\n",
       "\n",
       "    .dataframe thead th {\n",
       "        text-align: right;\n",
       "    }\n",
       "</style>\n",
       "<table border=\"1\" class=\"dataframe\">\n",
       "  <thead>\n",
       "    <tr style=\"text-align: right;\">\n",
       "      <th></th>\n",
       "      <th>0</th>\n",
       "    </tr>\n",
       "  </thead>\n",
       "  <tbody>\n",
       "    <tr>\n",
       "      <th>weight</th>\n",
       "      <td>0.186709</td>\n",
       "    </tr>\n",
       "    <tr>\n",
       "      <th>ram</th>\n",
       "      <td>0.736197</td>\n",
       "    </tr>\n",
       "    <tr>\n",
       "      <th>inches</th>\n",
       "      <td>0.049140</td>\n",
       "    </tr>\n",
       "  </tbody>\n",
       "</table>\n",
       "</div>"
      ],
      "text/plain": [
       "               0\n",
       "weight  0.186709\n",
       "ram     0.736197\n",
       "inches  0.049140"
      ]
     },
     "execution_count": 61,
     "metadata": {},
     "output_type": "execute_result"
    }
   ],
   "source": [
    "pd.DataFrame(corr)"
   ]
  },
  {
   "cell_type": "markdown",
   "metadata": {},
   "source": [
    "### Select the relevant columns"
   ]
  },
  {
   "cell_type": "code",
   "execution_count": null,
   "metadata": {},
   "outputs": [],
   "source": [
    "relevant_columns = list(df_train.columns)\n",
    "relevant_columns"
   ]
  },
  {
   "cell_type": "code",
   "execution_count": 28,
   "metadata": {},
   "outputs": [],
   "source": [
    "df_train = df_train[relevant_columns]"
   ]
  },
  {
   "cell_type": "code",
   "execution_count": null,
   "metadata": {},
   "outputs": [],
   "source": [
    "df_train.head()"
   ]
  },
  {
   "cell_type": "markdown",
   "metadata": {
    "id": "lP7B2uOiOlio"
   },
   "source": [
    "### Split features and target."
   ]
  },
  {
   "cell_type": "code",
   "execution_count": 68,
   "metadata": {},
   "outputs": [],
   "source": [
    "y_train = df_train.price_euros.values"
   ]
  },
  {
   "cell_type": "code",
   "execution_count": 69,
   "metadata": {},
   "outputs": [],
   "source": [
    "del df_train['price_euros']"
   ]
  },
  {
   "cell_type": "code",
   "execution_count": 70,
   "metadata": {},
   "outputs": [],
   "source": [
    "X_train = df_train.values"
   ]
  },
  {
   "cell_type": "code",
   "execution_count": null,
   "metadata": {},
   "outputs": [],
   "source": [
    "X_train.shape, y_train.shape"
   ]
  },
  {
   "cell_type": "markdown",
   "metadata": {
    "id": "coIWekm3Olim"
   },
   "source": [
    "## Model Selection."
   ]
  },
  {
   "cell_type": "markdown",
   "metadata": {
    "id": "M9uezY-POliu"
   },
   "source": [
    "### Decision Tree model"
   ]
  },
  {
   "cell_type": "code",
   "execution_count": 76,
   "metadata": {
    "id": "Q7Rm3WUeOljQ"
   },
   "outputs": [],
   "source": [
    "parameters = {\n",
    "    'criterion': ['squared_error', 'friedman_mse', 'absolute_error', 'poisson'],\n",
    "    'splitter': ['best', 'random'],\n",
    "    'min_samples_split': [2, 5, 10],\n",
    "    'min_samples_leaf': [1, 5, 10]\n",
    "}"
   ]
  },
  {
   "cell_type": "code",
   "execution_count": null,
   "metadata": {
    "id": "7unWJvNcOljR"
   },
   "outputs": [],
   "source": [
    "dt_model = GridSearchCV(estimator=DecisionTreeRegressor(), param_grid=parameters)\n",
    "dt_model.fit(X_train, y_train)"
   ]
  },
  {
   "cell_type": "markdown",
   "metadata": {
    "id": "sJ0GJ6bF7AU2"
   },
   "source": [
    "`Best score`"
   ]
  },
  {
   "cell_type": "code",
   "execution_count": null,
   "metadata": {
    "id": "kWFBjEkLOlju"
   },
   "outputs": [],
   "source": [
    "dt_model.best_score_"
   ]
  },
  {
   "cell_type": "markdown",
   "metadata": {
    "id": "Ov3NATMB7B-m"
   },
   "source": [
    "`Best parameters`"
   ]
  },
  {
   "cell_type": "code",
   "execution_count": null,
   "metadata": {
    "id": "NHBSGqu97EUW"
   },
   "outputs": [],
   "source": [
    "dt_model.best_params_"
   ]
  },
  {
   "cell_type": "markdown",
   "metadata": {
    "id": "KdhL2KhrOlj4"
   },
   "source": [
    "### Random Forest model"
   ]
  },
  {
   "cell_type": "code",
   "execution_count": 41,
   "metadata": {
    "id": "pmBvemKTOlj5"
   },
   "outputs": [],
   "source": [
    "parameters = {\n",
    "    'criterion': ['gini', 'entropy'],\n",
    "    'n_estimators': [10, 40, 100],\n",
    "    'min_samples_split': [2, 5],\n",
    "    'min_samples_leaf': [1, 5]\n",
    "}"
   ]
  },
  {
   "cell_type": "code",
   "execution_count": null,
   "metadata": {
    "id": "1CtWcamKOlj5"
   },
   "outputs": [],
   "source": [
    "rf_model = GridSearchCV(estimator=RandomForestClassifier(), param_grid=parameters)\n",
    "rf_model.fit(df_train.values, y_train)"
   ]
  },
  {
   "cell_type": "markdown",
   "metadata": {
    "id": "qP2iVi806dbb"
   },
   "source": [
    "`Best score`"
   ]
  },
  {
   "cell_type": "code",
   "execution_count": null,
   "metadata": {
    "id": "y2nVGItZOlj6"
   },
   "outputs": [],
   "source": [
    "rf_model.best_score_"
   ]
  },
  {
   "cell_type": "markdown",
   "metadata": {
    "id": "NUWVke8v6lAI"
   },
   "source": [
    "`Best parameters`"
   ]
  },
  {
   "cell_type": "code",
   "execution_count": null,
   "metadata": {
    "id": "CJA3egas7PtW"
   },
   "outputs": [],
   "source": [
    "rf_model.best_params_"
   ]
  },
  {
   "cell_type": "markdown",
   "metadata": {
    "id": "ViD2xSmYQgPK"
   },
   "source": [
    "## Save files"
   ]
  },
  {
   "cell_type": "code",
   "execution_count": null,
   "metadata": {
    "id": "sXctP9ZRQi1Q"
   },
   "outputs": [],
   "source": [
    "model_dir = 'model'\n",
    "\n",
    "if not os.path.exists(model_dir):\n",
    "    os.makedirs(model_dir)\n",
    "    print('Directory was created!')"
   ]
  },
  {
   "cell_type": "markdown",
   "metadata": {
    "id": "m2SMHRQFSHnn"
   },
   "source": [
    "### Save relevant columns list."
   ]
  },
  {
   "cell_type": "code",
   "execution_count": null,
   "metadata": {
    "id": "IBbz3NZ7RAI-"
   },
   "outputs": [],
   "source": [
    "with open(f'{model_dir}/relevant_columns.bin', 'wb') as f:\n",
    "    pickle.dump((relevant_columns), f)\n",
    "    f.close()"
   ]
  },
  {
   "cell_type": "markdown",
   "metadata": {},
   "source": []
  }
 ],
 "metadata": {
  "accelerator": "GPU",
  "colab": {
   "gpuType": "T4",
   "provenance": []
  },
  "kernelspec": {
   "display_name": "Python 3 (ipykernel)",
   "language": "python",
   "name": "python3"
  },
  "language_info": {
   "codemirror_mode": {
    "name": "ipython",
    "version": 3
   },
   "file_extension": ".py",
   "mimetype": "text/x-python",
   "name": "python",
   "nbconvert_exporter": "python",
   "pygments_lexer": "ipython3",
   "version": "3.10.12"
  }
 },
 "nbformat": 4,
 "nbformat_minor": 4
}
